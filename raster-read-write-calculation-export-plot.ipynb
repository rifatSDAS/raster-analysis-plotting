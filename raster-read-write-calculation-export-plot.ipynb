{
 "cells": [
  {
   "cell_type": "markdown",
   "id": "55cce128",
   "metadata": {},
   "source": [
    "# Import all packages and libraries"
   ]
  },
  {
   "cell_type": "code",
   "execution_count": null,
   "id": "a8eaca33",
   "metadata": {},
   "outputs": [],
   "source": [
    "import os\n",
    "import rasterio\n",
    "import rasterio.plot\n",
    "from rasterio.plot import show\n",
    "from rasterio import plot as rioplot\n",
    "import numpy as np\n",
    "import numpy.ma as ma\n",
    "import matplotlib as mpl\n",
    "import matplotlib.pyplot as plt\n",
    "from matplotlib import pyplot as plt\n",
    "from matplotlib.pyplot import figure\n",
    "%matplotlib inline\n",
    "import earthpy as et\n",
    "import earthpy.spatial as es\n",
    "import earthpy.plot as ep\n",
    "\n",
    "### make sure rasterio is installed in the system\n",
    "### if not, follow the installation from\n",
    "### https://rasterio.readthedocs.io/en/latest/installation.html\n",
    "### make sure earthpy is also installed\n",
    "### if not follow the installation from \n",
    "### https://earthpy.readthedocs.io/en/latest/get-started.html#install-earthpy\n",
    "### best option is to use anaconda python distribution"
   ]
  },
  {
   "cell_type": "markdown",
   "id": "e04b5532",
   "metadata": {},
   "source": [
    "# Step 1"
   ]
  },
  {
   "cell_type": "markdown",
   "id": "fe56cc9a",
   "metadata": {},
   "source": [
    "## Read and open raster data file\n",
    "### Example shows to read, open, analysis, and work multiband .bsq file\n",
    "### And this example can apply for geotiff file format too, just change the file extesion from .bsq to .tif\n",
    "###### Notes: Both raster files must have similar profile, e.g., coordinate system, no. of rows and columns, extensions. If not, then it must be done before applying this Jupyter script."
   ]
  },
  {
   "cell_type": "code",
   "execution_count": null,
   "id": "cd27c971",
   "metadata": {},
   "outputs": [],
   "source": [
    "file1 = 'your/file/location/file1.bsq'"
   ]
  },
  {
   "cell_type": "code",
   "execution_count": null,
   "id": "3a4812b8",
   "metadata": {},
   "outputs": [],
   "source": [
    "with rasterio.open(file1, 'r') as dst1:\n",
    "    #print(dst1)\n",
    "    print(dst1.profile)\n",
    "    print(\"No. of band:\", dst1.count) # to know number of bands\n",
    "    ### read all bands as a numpy array list \n",
    "    data1 = dst1.read() # read all raster bands as data1\n",
    "    print(\"Shape:\", data1.shape) # to know the shape of the list of 2D numpy arrayes \n",
    "    # plot band 1 for a quick look\n",
    "    fig, (ax1) = plt.subplots(1,1, figsize=(12,6))\n",
    "    show((dst1, 1), ax=ax1, cmap='gray', title='band 1') "
   ]
  },
  {
   "cell_type": "code",
   "execution_count": null,
   "id": "a0158b72",
   "metadata": {},
   "outputs": [],
   "source": [
    "file2 = 'your/file/location/file2.bsq'"
   ]
  },
  {
   "cell_type": "code",
   "execution_count": null,
   "id": "229c6586",
   "metadata": {},
   "outputs": [],
   "source": [
    "with rasterio.open(file2, 'r') as dst2:\n",
    "    #print(dst2)\n",
    "    print(dst2.profile)\n",
    "    print(\"No. of band:\", dst2.count) # to know number of bands\n",
    "    ### read all bands as a numpy array list \n",
    "    data2 = dst2.read() # read all raster bands as data2\n",
    "    print(\"Shape:\", data2.shape) # to know the shape of the list of 2D numpy arrayes \n",
    "    # plot band 1 for a quick look\n",
    "    fig, (ax1) = plt.subplots(1,1, figsize=(12,6))\n",
    "    show((dst2, 1), ax=ax1, cmap='gray', title='band 1') "
   ]
  },
  {
   "cell_type": "markdown",
   "id": "26cadb39",
   "metadata": {},
   "source": [
    "# Step 2"
   ]
  },
  {
   "cell_type": "markdown",
   "id": "bd5ff5c3",
   "metadata": {},
   "source": [
    "## Working with full raster area extension"
   ]
  },
  {
   "cell_type": "markdown",
   "id": "db5d7d0c",
   "metadata": {},
   "source": [
    "### As an example lets calculate NDVI for each band from multiband 2D numpy arrays\n",
    "#### An iteration over a list of 2D numpy arrays\n",
    "##### Note: Output will be a list of 2d numpy arrays"
   ]
  },
  {
   "cell_type": "code",
   "execution_count": null,
   "id": "ead19bf5",
   "metadata": {},
   "outputs": [],
   "source": [
    "def ndvi():\n",
    "    x = data1\n",
    "    y = data2\n",
    "    ndvi = ((x - y) / (x + y))\n",
    "    return ndvi\n",
    "\n",
    "np.seterr(invalid='ignore') # to ignor RuntimeWarning: invalid value encountered in true_divide\n",
    "\n",
    "print(type(ndvi))\n",
    "print(ndvi().shape)\n",
    "#print(ndvi())"
   ]
  },
  {
   "cell_type": "markdown",
   "id": "5b4678f6",
   "metadata": {},
   "source": [
    "### As an example lets calculate NDVI for a specific band from individual 2D numpy arrays\n",
    "##### Output will be a 2d numpy array"
   ]
  },
  {
   "cell_type": "code",
   "execution_count": null,
   "id": "3a86f868",
   "metadata": {},
   "outputs": [],
   "source": [
    "def ndvi1(): #for ndvi of band 1 of data1 and data2\n",
    "    x = data1[0,:,:]     #[0,:,:] for band 1, [1,:,:] for band 2, [2,:,:] for band 3 and so on\n",
    "    y = data2[0,:,:]\n",
    "    ndvi1 = ((x - y) / (x + y))\n",
    "    return ndvi1\n",
    "\n",
    "np.seterr(invalid='ignore') # to ignor RuntimeWarning: invalid value encountered in true_divide\n",
    "\n",
    "print(type(ndvi1))\n",
    "print(ndvi1().shape)\n",
    "#print(ndvi1())"
   ]
  },
  {
   "cell_type": "markdown",
   "id": "a7cf71d4",
   "metadata": {},
   "source": [
    "##### Notes: why two different function names?, I.e., ndvi() and ndvi1()\n",
    "##### Because then each function can call specifically without any naming conflict"
   ]
  },
  {
   "cell_type": "markdown",
   "id": "26519877",
   "metadata": {},
   "source": [
    "# Step 3"
   ]
  },
  {
   "cell_type": "markdown",
   "id": "32965792",
   "metadata": {},
   "source": [
    "## Calculate variables based on mathematical equations"
   ]
  },
  {
   "cell_type": "code",
   "execution_count": null,
   "id": "bcc98d6d",
   "metadata": {},
   "outputs": [],
   "source": [
    "# lets calculate a new variable from our data files called var1\n",
    "\n",
    "def var1():\n",
    "    p = 0.12\n",
    "    c = 2.23\n",
    "    x = data1\n",
    "    y = data2\n",
    "    var1 = ((1 + (p * c)) + x) / (y + (p + c))\n",
    "    return var1\n",
    "\n",
    "np.seterr(invalid='ignore') # to ignor RuntimeWarning: invalid value encountered in true_divide\n",
    "\n",
    "print(type(var1))\n",
    "print(var1().shape)\n",
    "#print(var1())"
   ]
  },
  {
   "cell_type": "code",
   "execution_count": null,
   "id": "6d3ba0fc",
   "metadata": {},
   "outputs": [],
   "source": [
    "# lets calculate another new variable from our data files called var2\n",
    "\n",
    "def var2():\n",
    "    p = 0.12\n",
    "    c = 2.23\n",
    "    x = data1\n",
    "    y = data2\n",
    "    var2 = ((1 + (p + c)) + x) / (y + (p * c))\n",
    "    return var2\n",
    "\n",
    "np.seterr(invalid='ignore') # to ignor RuntimeWarning: invalid value encountered in true_divide\n",
    "\n",
    "print(type(var2))\n",
    "print(var2().shape)\n",
    "#print(var2())"
   ]
  },
  {
   "cell_type": "markdown",
   "id": "db067548",
   "metadata": {},
   "source": [
    "# Step 4"
   ]
  },
  {
   "cell_type": "markdown",
   "id": "341f224a",
   "metadata": {},
   "source": [
    "## Let's use var1 and var2 for calculating a new variable"
   ]
  },
  {
   "cell_type": "code",
   "execution_count": null,
   "id": "c29c87be",
   "metadata": {},
   "outputs": [],
   "source": [
    "# lets calculate a new variable from var1 and var1 called var3\n",
    "\n",
    "def var3():\n",
    "    var3 = ((var2() - var1()) / var1()) * 100\n",
    "    return var3\n",
    "\n",
    "np.seterr(invalid='ignore') # to ignor RuntimeWarning: invalid value encountered in true_divide\n",
    "\n",
    "print(type(var3))\n",
    "print(var3().shape)\n",
    "#print(var3())"
   ]
  },
  {
   "cell_type": "markdown",
   "id": "cb15ff81",
   "metadata": {},
   "source": [
    "# Step 5"
   ]
  },
  {
   "cell_type": "markdown",
   "id": "1063d385",
   "metadata": {},
   "source": [
    "## Export calculated multiband or single band raster "
   ]
  },
  {
   "cell_type": "markdown",
   "id": "10c7539c",
   "metadata": {},
   "source": [
    "### Export calculated multiband raster file"
   ]
  },
  {
   "cell_type": "code",
   "execution_count": null,
   "id": "22e7cd6c",
   "metadata": {},
   "outputs": [],
   "source": [
    "# export as multiband geotiff raster\n",
    "# geotiff is better than bsq format\n",
    "# for dealing with raster as 2D numpy array\n",
    "# but we can also export it as bsq file\n",
    "# then we just need to change .tif to .bsq\n",
    "# for the example, its exported as .tif format\n",
    "# Get metadata from any open raster\n",
    "with rasterio.open(file1) as src:\n",
    "    meta = src.profile\n",
    "meta\n",
    "# export 2D numpy array as geotiff raster layer stack\n",
    "with rasterio.open(\n",
    "    \"your/output/location/var1.tif\", # export directory and export file name and extension\n",
    "    'w',\n",
    "    **meta\n",
    ") as dst:\n",
    "    dst.write(var1().astype(rasterio.float32))\n",
    "# change var1() with your multiband 2d numpy array to export"
   ]
  },
  {
   "cell_type": "markdown",
   "id": "0880bae8",
   "metadata": {},
   "source": [
    "### Export calculated single band raster file"
   ]
  },
  {
   "cell_type": "code",
   "execution_count": null,
   "id": "c53e8c7b",
   "metadata": {},
   "outputs": [],
   "source": [
    "# export as multiband geotiff raster\n",
    "# geotiff is better than bsq format\n",
    "# for dealing with raster as 2D numpy array\n",
    "# but we can also export it as bsq file\n",
    "# then we just need to change .tif to .bsq\n",
    "# for the example, its exported as .tif format\n",
    "# Get metadata from any open raster\n",
    "with rasterio.open(file1) as src:\n",
    "    meta = src.profile\n",
    "meta\n",
    "# export 2D numpy array as geotiff raster layer stack\n",
    "with rasterio.open(\n",
    "    \"your/output/location/ndvi-band1.tif\", # export directory and export file name and extension\n",
    "    'w',\n",
    "    **meta\n",
    ") as dst:\n",
    "    dst.write(ndvi1().astype(rasterio.float32), 1) # this command will export a single raster file\n",
    "# change ndvi1() with your single 2d numpy array to export\n",
    "# because of converting .bsq to .tif\n",
    "# a .hdr file will generate in the file directory \n",
    "# this header file will contain all the info from src \n",
    "# but, only band 1 is valid raster data, others just false \n",
    "# open this .hdr file with any text editor \n",
    "# and make sure inside .hdr file 'band = 1' and 'band names = {Band 1}', \n",
    "# band name can be anything, so only keep ther first name of the band\n",
    "# now save the change and close the .hdr file\n",
    "# you are all set to go!"
   ]
  },
  {
   "cell_type": "markdown",
   "id": "b9e029f7",
   "metadata": {},
   "source": [
    "# Working within ROI or AOI or smaller area of raster"
   ]
  },
  {
   "cell_type": "markdown",
   "id": "8036b2f1",
   "metadata": {},
   "source": [
    "### Clip all rasters with an ROI or AOI shape file\n",
    "#### For example a polygon with ESRI shapefile format used \n",
    "##### Clipping must be done for each file individually"
   ]
  },
  {
   "cell_type": "code",
   "execution_count": null,
   "id": "b1d0ec12",
   "metadata": {},
   "outputs": [],
   "source": [
    "import fiona\n",
    "import rasterio\n",
    "import rasterio.mask\n",
    "# open shapefile\n",
    "with fiona.open(\"your/polygon/shapefile/location/ROI.shp\", \"r\") as shapefile:\n",
    "    shapes = [feature[\"geometry\"] for feature in shapefile]\n",
    "# open the raster for clipping\n",
    "with rasterio.open(\"your/output/location/var1.tif\") as src:\n",
    "    out_image, out_transform = rasterio.mask.mask(src, shapes, crop=True)\n",
    "    out_meta = src.meta\n",
    "# write output file into GeoTiff format\n",
    "# and save it in any directory rather than in system directory\n",
    "# based on rasterio and python, geotiff format \n",
    "# is more convinient than bsq format\n",
    "out_meta.update({\"driver\": \"GTiff\",\n",
    "                 \"height\": out_image.shape[1],\n",
    "                 \"width\": out_image.shape[2],\n",
    "                 \"transform\": out_transform})\n",
    "with rasterio.open(\"your/output/location/var1-ROI.tif\", \"w\", **out_meta) as dest:\n",
    "    dest.write(out_image)"
   ]
  },
  {
   "cell_type": "markdown",
   "id": "4b9026be",
   "metadata": {},
   "source": [
    "###### Notes:\n",
    "###### Based on working method follow from Step 2 to Step 5 "
   ]
  },
  {
   "cell_type": "markdown",
   "id": "db17b9df",
   "metadata": {},
   "source": [
    "# Step 6"
   ]
  },
  {
   "cell_type": "markdown",
   "id": "3f9ea55c",
   "metadata": {},
   "source": [
    "## Plotting multiband 2D numpy arrays for quick visualization"
   ]
  },
  {
   "cell_type": "code",
   "execution_count": null,
   "id": "dc33e93f",
   "metadata": {},
   "outputs": [],
   "source": [
    "titles = [\"var3\"]\n",
    "ep.plot_bands(var3(), cols=6)"
   ]
  },
  {
   "cell_type": "markdown",
   "id": "af1ffbff",
   "metadata": {},
   "source": [
    "# Step 7"
   ]
  },
  {
   "cell_type": "markdown",
   "id": "fcea0774",
   "metadata": {},
   "source": [
    "## Plotting multiband 2D numpy arrays for paper\n",
    "###### It is good idea to call each band or 2D numpy array individually and then plot to maintain highest configuration options"
   ]
  },
  {
   "cell_type": "code",
   "execution_count": null,
   "id": "47f351e0",
   "metadata": {},
   "outputs": [],
   "source": [
    "# as an example lets plot first three bands of var3\n",
    "# now define individual bands or 2D numpy array\n",
    "# from calculated python function, e.g., var3()\n",
    "band1 = var3()[0,:,:] #[0,:,:] for band 1\n",
    "band2 = var3()[1,:,:] #[1,:,:] for band 2\n",
    "band3 = var3()[2,:,:] #[2,:,:] for band 3"
   ]
  },
  {
   "cell_type": "code",
   "execution_count": null,
   "id": "1d5cbcb3",
   "metadata": {},
   "outputs": [],
   "source": [
    "# make a function for exporting individual band \n",
    "# or 2D numpy array as png format figure\n",
    "# but we can change format, e.g., \n",
    "# jpg by change fig_extension=\"jpg\"\n",
    "OUT_DIR = \"your/output/figure/location\" # to a specific directory\n",
    "# or\n",
    "#OUT_DIR = \".\" # to root directory of project or where this jupyter script is placed\n",
    "IMG_ID = \"analysis-3\" # this name can be any string you like\n",
    "IMAGE_PATH = os.path.join(OUT_DIR, \"images\", IMG_ID)\n",
    "os.makedirs(IMAGE_PATH, exist_ok=True)\n",
    "\n",
    "def export_fig(fig_id, tight_layout=True, fig_extension=\"png\", resolution=300):\n",
    "    path = os.path.join(IMAGE_PATH, fig_id + \".\" + fig_extension)\n",
    "    print(\"Saving figure\", fig_id)\n",
    "    if tight_layout:\n",
    "        plt.tight_layout()\n",
    "    plt.savefig(path, format=fig_extension, dpi=resolution)"
   ]
  },
  {
   "cell_type": "code",
   "execution_count": null,
   "id": "a5d5c8ea",
   "metadata": {},
   "outputs": [],
   "source": [
    "# now plot all these three bands in a single figure\n",
    "# fix the plot style as default matplotlib figure style\n",
    "plt.style.use('default')\n",
    "\n",
    "# define three subplots for each band\n",
    "plt.subplot(131) # its place band 1 in 1st row 1st column  \n",
    "plt.imshow(band1, cmap='jet') # plot command for band 1 with color map\n",
    "cbar = plt.colorbar(shrink=0.7) # color bar size\n",
    "cbar.set_label('[unit]', fontsize=12) # color bar lable\n",
    "plt.clim(400, 2000) # color bar limit\n",
    "plt.title('band 1', loc='center', fontsize=15)\n",
    "\n",
    "\n",
    "plt.subplot(132) # its place band 2 in 1st row 2nd column  \n",
    "plt.imshow(band2, cmap='jet') # plot command for band 2 with color map\n",
    "cbar = plt.colorbar(shrink=0.7) # color bar size\n",
    "cbar.set_label('[unit]', fontsize=12) # color bar lable\n",
    "plt.clim(400, 2000) # color bar limit\n",
    "plt.title('band 2', loc='center', fontsize=15) # plot title\n",
    "\n",
    "\n",
    "plt.subplot(133) # its place band 3 in 1st row 3rd column  \n",
    "plt.imshow(band3, cmap='jet') # plot command for band 3 with color map\n",
    "cbar = plt.colorbar(shrink=0.7) # color bar size\n",
    "cbar.set_label('[unit]', fontsize=12) # color bar lable\n",
    "plt.clim(400, 2000) # color bar limit\n",
    "plt.title('band 3', loc='center', fontsize=15) # plot title\n",
    "\n",
    "plt.gcf().set_size_inches(18, 6) # fix figure size and fit\n",
    "export_fig('example-3') # export and save figure by calling python function "
   ]
  }
 ],
 "metadata": {
  "kernelspec": {
   "display_name": "Python 3 (ipykernel)",
   "language": "python",
   "name": "python3"
  },
  "language_info": {
   "codemirror_mode": {
    "name": "ipython",
    "version": 3
   },
   "file_extension": ".py",
   "mimetype": "text/x-python",
   "name": "python",
   "nbconvert_exporter": "python",
   "pygments_lexer": "ipython3",
   "version": "3.9.12"
  }
 },
 "nbformat": 4,
 "nbformat_minor": 5
}
